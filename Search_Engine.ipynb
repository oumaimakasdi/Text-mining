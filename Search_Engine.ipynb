{
  "nbformat": 4,
  "nbformat_minor": 0,
  "metadata": {
    "colab": {
      "name": "Search_Engine.ipynb",
      "provenance": [],
      "collapsed_sections": [
        "i6x3jagtNUXs",
        "tYfvqs8KPc8P",
        "uiL3cfFkPzJP",
        "duXdwfFaY9P_",
        "oYC2HziFpnfW",
        "IqKoTxjmqgOl",
        "qGxN-wyDq0RJ"
      ],
      "toc_visible": true
    },
    "kernelspec": {
      "name": "python3",
      "display_name": "Python 3"
    }
  },
  "cells": [
    {
      "cell_type": "code",
      "metadata": {
        "colab": {
          "base_uri": "https://localhost:8080/"
        },
        "id": "7j3jRR-vK0UB",
        "outputId": "34b6512f-3930-4086-ae59-f0388f2e3931"
      },
      "source": [
        "##Monter mon drive sur google colab\r\n",
        "from google.colab import drive\r\n",
        "drive.mount('/content/drive')"
      ],
      "execution_count": 1,
      "outputs": [
        {
          "output_type": "stream",
          "text": [
            "Mounted at /content/drive\n"
          ],
          "name": "stdout"
        }
      ]
    },
    {
      "cell_type": "markdown",
      "metadata": {
        "id": "XSSj6SZgL0TL"
      },
      "source": [
        "## importation des packages nécessaires\r\n"
      ]
    },
    {
      "cell_type": "markdown",
      "metadata": {
        "id": "nvR0u54pjL6r"
      },
      "source": [
        "\r\n",
        "* **nltk** : Pour le nettoyage \r\n",
        "* **pandas** :manipulation et l'analyse des données \r\n",
        "* **numpy** :manipuler des matrices ou tableaux multidimensionnel\r\n",
        "* **spacy** : effectuer les opérations d'analyse sur des textes\r\n",
        "\r\n"
      ]
    },
    {
      "cell_type": "code",
      "metadata": {
        "id": "xeXDIZjRMARJ"
      },
      "source": [
        "from nltk.corpus import stopwords\r\n",
        "from nltk.tokenize import word_tokenize\r\n",
        "from nltk.stem import PorterStemmer\r\n",
        "from nltk.stem import WordNetLemmatizer\r\n",
        "import nltk\r\n",
        "import pandas as pd\r\n",
        "import numpy as np\r\n",
        "from sklearn.metrics.pairwise import cosine_similarity\r\n",
        "from sklearn.feature_extraction.text import CountVectorizer\r\n",
        "from sklearn.feature_extraction import text\r\n",
        "from sklearn.feature_extraction.text import TfidfTransformer\r\n",
        "from sklearn.feature_extraction.text import TfidfVectorizer\r\n",
        "nltk.download('vader_lexicon')\r\n",
        "nltk.download('stopwords')\r\n",
        "nltk.download('wordnet')\r\n",
        "nltk.download('punkt')\r\n",
        "!pip install spacy\r\n",
        "import spacy\r\n",
        "!pip install -U textblob\r\n",
        "!pip install -U textblob-fr\r\n",
        "\r\n"
      ],
      "execution_count": null,
      "outputs": []
    },
    {
      "cell_type": "markdown",
      "metadata": {
        "id": "i6x3jagtNUXs"
      },
      "source": [
        "#preprocessing\r\n"
      ]
    },
    {
      "cell_type": "markdown",
      "metadata": {
        "id": "eq056bNmN54j"
      },
      "source": [
        "## Fonction de suppression des stopwords"
      ]
    },
    {
      "cell_type": "code",
      "metadata": {
        "id": "HZPW3omMMYOA"
      },
      "source": [
        "\r\n",
        "def remove_stop_words(corpus):\r\n",
        "    english_stop_words = stopwords.words('english')\r\n",
        "    word_tokens = word_tokenize(corpus) \r\n",
        "    filtered_sentence = [] \r\n",
        "    for w in word_tokens: \r\n",
        "        if w not in english_stop_words: \r\n",
        "            filtered_sentence.append(w) \r\n",
        "    return ' '.join(filtered_sentence)"
      ],
      "execution_count": 51,
      "outputs": []
    },
    {
      "cell_type": "markdown",
      "metadata": {
        "id": "4eFbE6dQO4Ct"
      },
      "source": [
        "## Fonction de stemmatisation"
      ]
    },
    {
      "cell_type": "code",
      "metadata": {
        "id": "00rffeVMO747"
      },
      "source": [
        "def get_stemmed_text(corpus):\r\n",
        "    token_words=word_tokenize(sentence)\r\n",
        "    stem_sentence=[]\r\n",
        "    porter=PorterStemmer()\r\n",
        "    for word in token_words:\r\n",
        "        stem_sentence.append(porter.stem(word))\r\n",
        "    return ' '.join(stem_sentence)"
      ],
      "execution_count": 52,
      "outputs": []
    },
    {
      "cell_type": "markdown",
      "metadata": {
        "id": "WPcGlXdYPH3G"
      },
      "source": [
        "##Lemmatisation "
      ]
    },
    {
      "cell_type": "code",
      "metadata": {
        "id": "WaAqRRPkPPFf"
      },
      "source": [
        "def get_lemmatized_text(corpus):\r\n",
        "    wordnet_lemmatizer = WordNetLemmatizer()    \r\n",
        "    token_words=word_tokenize(corpus)\r\n",
        "    lem_sentence=[]\r\n",
        "    for w in token_words:\r\n",
        "        lem_sentence.append(wordnet_lemmatizer.lemmatize(w))\r\n",
        "    return ' '.join(lem_sentence)"
      ],
      "execution_count": 53,
      "outputs": []
    },
    {
      "cell_type": "markdown",
      "metadata": {
        "id": "H7Ae_phEZ5xK"
      },
      "source": [
        "##Lower_case"
      ]
    },
    {
      "cell_type": "code",
      "metadata": {
        "id": "jZQFT7R_Z1ks"
      },
      "source": [
        "def lower_case(value): \r\n",
        "    return value.lower()"
      ],
      "execution_count": 54,
      "outputs": []
    },
    {
      "cell_type": "markdown",
      "metadata": {
        "id": "9TuZUIbnaW3Z"
      },
      "source": [
        "##Suppression des nombres"
      ]
    },
    {
      "cell_type": "code",
      "metadata": {
        "id": "Ihp-nfseanGo"
      },
      "source": [
        "def remove_number(corpus):\r\n",
        "  word_tokens = word_tokenize(corpus)\r\n",
        "  caractres=[]\r\n",
        "  for i in word_tokens:\r\n",
        "    if not isnumeric(i):\r\n",
        "      caractres.append(i)\r\n",
        "  return ' '.join(filtered_sentence)\r\n",
        "\r\n",
        "\r\n",
        "\r\n"
      ],
      "execution_count": 55,
      "outputs": []
    },
    {
      "cell_type": "markdown",
      "metadata": {
        "id": "tYfvqs8KPc8P"
      },
      "source": [
        "##Suppression de ponctuation"
      ]
    },
    {
      "cell_type": "code",
      "metadata": {
        "id": "xOXKIQsfPkBV"
      },
      "source": [
        "def get_unpuncuated_text(corpus):\r\n",
        "    words = nltk.word_tokenize(corpus)\r\n",
        "    words=[word.lower() for word in words if word.isalpha()]\r\n",
        "    return ' '.join(words)"
      ],
      "execution_count": 56,
      "outputs": []
    },
    {
      "cell_type": "markdown",
      "metadata": {
        "id": "3Q2IUPaAPldE"
      },
      "source": [
        "##Nettoyage\r\n",
        "* fonction \"preprocessing\" qui fait appel a toutes les fonctions précédentes"
      ]
    },
    {
      "cell_type": "code",
      "metadata": {
        "id": "4L4tU6hgPuJP"
      },
      "source": [
        "\r\n",
        "def preprocessing(corpus):\r\n",
        "  for i in corpus :\r\n",
        "    lower_case(i)\r\n",
        "  return corpus\r\n",
        "  corpus= remove_stop_words(corpus)\r\n",
        "  corpus= remove_number(corpus)\r\n",
        "  corpus=get_lemmatized_text(corpus)\r\n",
        "  corpus=get_stemmed_text(corpus)\r\n",
        "  corpus =get_unpuncuated_text(corpus)\r\n",
        "  return corpus"
      ],
      "execution_count": 103,
      "outputs": []
    },
    {
      "cell_type": "markdown",
      "metadata": {
        "id": "ScZGRxmwO78X"
      },
      "source": [
        "# Traitement du Dataset"
      ]
    },
    {
      "cell_type": "markdown",
      "metadata": {
        "id": "uiL3cfFkPzJP"
      },
      "source": [
        "##Importation du Dataset"
      ]
    },
    {
      "cell_type": "markdown",
      "metadata": {
        "id": "D8FKjq8lrX1d"
      },
      "source": [
        "* On extrait les informations nécessaires : title - genre- description- avis - rating"
      ]
    },
    {
      "cell_type": "code",
      "metadata": {
        "id": "WxGOLuZTP7Ga"
      },
      "source": [
        "titre=[]\r\n",
        "genre=[]\r\n",
        "description=[]\r\n",
        "avis=[]\r\n",
        "rating=[]\r\n",
        "titre_r=[]\r\n",
        "\r\n",
        "data_film1=pd.read_csv('/content/drive/My Drive/projet_TM/Data.csv' , encoding = \"UTF-8\",sep =\";\" )\r\n",
        "data_film2=pd.read_csv('/content/drive/My Drive/projet_TM/Data_Reviews.csv' , encoding = \"UTF-8\",sep =\";\" )\r\n",
        "titre.extend(data_film1[\"Title\"])\r\n",
        "genre.extend(data_film1[\"Genre\"])\r\n",
        "description.extend(data_film1[\"description\"])\r\n",
        "avis.extend(data_film2[\"review\"])\r\n",
        "rating.extend(data_film2[\"rate\"])\r\n",
        "titre_r.extend(data_film2[\"title\"])"
      ],
      "execution_count": 104,
      "outputs": []
    },
    {
      "cell_type": "markdown",
      "metadata": {
        "id": "duXdwfFaY9P_"
      },
      "source": [
        "##Preprocessing de description (nettoyage)"
      ]
    },
    {
      "cell_type": "code",
      "metadata": {
        "id": "CPiXbew5ZBnW"
      },
      "source": [
        "clean_description=[]\r\n",
        "for i in description:\r\n",
        " clean_description.append(preprocessing(i))\r\n"
      ],
      "execution_count": 151,
      "outputs": []
    },
    {
      "cell_type": "markdown",
      "metadata": {
        "id": "oYC2HziFpnfW"
      },
      "source": [
        "##nettoyage des avis"
      ]
    },
    {
      "cell_type": "code",
      "metadata": {
        "id": "6lUyUrTKpsFp"
      },
      "source": [
        "def clean_Avis(a):\r\n",
        "   c=[]\r\n",
        "   for i in a:\r\n",
        "      x=i.replace(\"\\n\",\"\")\r\n",
        "      for j in range(20):\r\n",
        "          if \"  \" in x:\r\n",
        "               x=x.replace(\"  \",\"\")\r\n",
        "      c.append(x)\r\n",
        "   for k in range(0,len(c)):\r\n",
        "        if c[k] == \"\":\r\n",
        "          c[k]=None       \r\n",
        "   return c \r\n",
        "clean_avis=clean_Avis(avis)\r\n"
      ],
      "execution_count": 153,
      "outputs": []
    },
    {
      "cell_type": "markdown",
      "metadata": {
        "id": "IqKoTxjmqgOl"
      },
      "source": [
        "##Nettoyage des catégories"
      ]
    },
    {
      "cell_type": "code",
      "metadata": {
        "id": "e27oRhBPqzpp"
      },
      "source": [
        "def clean_genre(a):\r\n",
        "   c=[]\r\n",
        "   for i in a:\r\n",
        "      x=i.replace(\"\\n\",\"\")\r\n",
        "      for j in range(20):\r\n",
        "          if \"  \" in x:\r\n",
        "               x=x.replace(\"  \",\"\")\r\n",
        "      c.append(x)\r\n",
        "   for k in range(0,len(c)):\r\n",
        "        if c[k] == \"\":\r\n",
        "          c[k]=None\r\n",
        "          \r\n",
        "   return c \r\n",
        "clean_genre=clean_genre(genre)"
      ],
      "execution_count": 107,
      "outputs": []
    },
    {
      "cell_type": "code",
      "metadata": {
        "id": "6om5I2QYrJnI"
      },
      "source": [
        "clean_genre"
      ],
      "execution_count": null,
      "outputs": []
    },
    {
      "cell_type": "markdown",
      "metadata": {
        "id": "qGxN-wyDq0RJ"
      },
      "source": [
        "##nettoyage de rating"
      ]
    },
    {
      "cell_type": "code",
      "metadata": {
        "id": "OnhW8axCrmbA"
      },
      "source": [
        "def clean_rating(a):\r\n",
        "   c=[]\r\n",
        "   for i in a:\r\n",
        "      x=i.replace(\"\\n\",\"\")\r\n",
        "      x=x.replace(\"/10\",\"\")\r\n",
        "      for j in range(20):\r\n",
        "          if \"  \" in x:\r\n",
        "               x=x.replace(\"  \",\"\")\r\n",
        "                             \r\n",
        "      c.append(x)\r\n",
        "   for k in range(0,len(c)):\r\n",
        "        if c[k] == \"\":\r\n",
        "          c[k]=None\r\n",
        "          \r\n",
        "   return c \r\n",
        "clean_rating=clean_rating(rating)"
      ],
      "execution_count": 109,
      "outputs": []
    },
    {
      "cell_type": "markdown",
      "metadata": {
        "id": "ej-QgayatdvP"
      },
      "source": [
        "##recherche d'un film par son titre\r\n",
        "* cette fonction retourne les informations concernant le titre du film saisie ( le titre - le genre - la description - les avis - le score ) .\r\n",
        "En regroupant les resultats  par score"
      ]
    },
    {
      "cell_type": "code",
      "metadata": {
        "id": "nKASlkXoti6D"
      },
      "source": [
        "def grouper_par_score(t):\r\n",
        "  d={\"Titre\":titre_r,\"Avis\":clean_avis,\"Score\":clean_rating}\r\n",
        "  a= pd.DataFrame(d) \r\n",
        "  a= a[a[\"Titre\"] == t]\r\n",
        "  a=a.dropna(axis=0)\r\n",
        "  a=a.sort_values(by=['Score'])\r\n",
        "  return a"
      ],
      "execution_count": 163,
      "outputs": []
    },
    {
      "cell_type": "code",
      "metadata": {
        "id": "SH55dPGfvfPs"
      },
      "source": [
        "#retourner les infos sur un film\r\n",
        "def rechercher_par_titre(t):\r\n",
        "  for i in titre:\r\n",
        "    if i == t:\r\n",
        "      print(\"Titre :\"+t)\r\n",
        "      print(\"Genre :\"+clean_genre[titre.index(i)])\r\n",
        "      print(\"Description :\"+clean_description[titre.index(i)])\r\n",
        "      print(\"Avis :\")\r\n",
        "      print(grouper_par_score(t))\r\n",
        "\r\n"
      ],
      "execution_count": 164,
      "outputs": []
    },
    {
      "cell_type": "code",
      "metadata": {
        "colab": {
          "base_uri": "https://localhost:8080/"
        },
        "id": "dKWPcw4fxSBB",
        "outputId": "0e7120c8-637c-453c-c560-1e53da3f4e4a"
      },
      "source": [
        "rechercher_par_titre(\"The Godfather\")"
      ],
      "execution_count": 167,
      "outputs": [
        {
          "output_type": "stream",
          "text": [
            "Titre :The Godfather\n",
            "Genre :Crime, Drama\n",
            "Description :\n",
            "    An organized crime dynasty's aging patriarch transfers control of his clandestine empire to his reluctant son.\n",
            "Avis :\n",
            "            Titre                                               Avis    Score\n",
            "74  The Godfather                        A Legitimately Perfect Film       10\n",
            "69  The Godfather                                    Simply the best       10\n",
            "68  The Godfather   An exquisite Mafia epic with outstanding perf...       10\n",
            "67  The Godfather                                      The godfather       10\n",
            "66  The Godfather                    How things were done back then!       10\n",
            "65  The Godfather                   The world inside the underworld!       10\n",
            "64  The Godfather                                            perfect       10\n",
            "63  The Godfather                                      A Masterpiece       10\n",
            "61  The Godfather   An Epic, Masterful Look into the Underground ...       10\n",
            "72  The Godfather                      The Pioneer of All Filmmaking       10\n",
            "60  The Godfather                  This Movie Has Haunted My Life...       10\n",
            "58  The Godfather                                              Top 5       10\n",
            "57  The Godfather                     Another kind of \"family movie\"       10\n",
            "56  The Godfather                                      Amazing movie       10\n",
            "55  The Godfather                                     An Iconic Film       10\n",
            "54  The Godfather   \"The Godfather\" is pretty much flawless, and ...       10\n",
            "53  The Godfather                An offer so good, I couldn't refuse       10\n",
            "52  The Godfather                    The greatest movie of all time!       10\n",
            "51  The Godfather                For Me, This Is The Definitive Film       10\n",
            "59  The Godfather   Initially, I wasn't a fan... but then I realised       10\n",
            "71  The Godfather                                      The Godfather       10\n",
            "73  The Godfather   A film of great power and a milestone in the ...        8\n",
            "62  The Godfather            Magnificent portrait of organized crime        9\n",
            "70  The Godfather                       The Greatest Movie Ever Made        9\n",
            "50  The Godfather                    The Pinnacle Of Flawless Films!  CalRhys\n"
          ],
          "name": "stdout"
        }
      ]
    },
    {
      "cell_type": "markdown",
      "metadata": {
        "id": "miaihlvgxvqj"
      },
      "source": [
        "##analyser les sentiments des reviews\r\n",
        "* Cette fonction retourne les avis d'un film donné ordonnés par analyse de sens (positive - neutre - négative)"
      ]
    },
    {
      "cell_type": "code",
      "metadata": {
        "id": "MFUtg1MXx1xT"
      },
      "source": [
        "def analyser_avis():\r\n",
        "  from textblob import TextBlob\r\n",
        "  from textblob import Blobber\r\n",
        "  from textblob_fr import PatternTagger, PatternAnalyzer\r\n",
        "  tb = Blobber(pos_tagger=PatternTagger(), analyzer=PatternAnalyzer())\r\n",
        "  res=[]\r\n",
        "  for i in avis:\r\n",
        "      text = tb(u\"\"+i)\r\n",
        "      res.append(text.sentiment[0])\r\n",
        "  ress=[]\r\n",
        "  for i in range(0,len(res)):\r\n",
        "      res[i]=round(res[i],2)\r\n",
        "      if res[i] > 0:\r\n",
        "        ress.append(str(\"Positive de \"+ str(int(res[i]*100))+ \"%\"))\r\n",
        "      elif res[i] == 0:\r\n",
        "        ress.append(str(\"Neutre\"))\r\n",
        "      else :\r\n",
        "        ress.append(str(\"Négative de \"+ str(int(res[i]*100*-1))+ \"%\"))\r\n",
        "  return [res,ress]\r\n",
        "\r\n",
        "#Grouper les avis (une fct qui retourne les avis d'un film donné ordonné par analyse de sens) \r\n",
        "def grouper_par_avis(t):\r\n",
        "  av=analyser_avis()\r\n",
        "  d={\"Titre\":titre_r , \"Avis\":clean_avis , \"Sentiment\": av[1] , \"ordre\": av[0]}\r\n",
        "  a= pd.DataFrame(d) \r\n",
        "  a= a[a[\"Titre\"] == t]\r\n",
        "  a=a.dropna(axis=0)\r\n",
        "  a=a.sort_values(by=[\"ordre\"], ascending=False)\r\n",
        "  a=a.drop([\"ordre\"], axis='columns')\r\n",
        "  return a\r\n",
        "\r\n",
        "#Recherche par titre (une fct qui retourne toute les infos d'un film donné)\r\n",
        "def recherche_par_titre_AS(t):\r\n",
        "  for i in titre:\r\n",
        "    if i == t:\r\n",
        "      print(\"Titre :\"+t)\r\n",
        "      print(\"Genre :\"+clean_genre[titre.index(i)])\r\n",
        "      print(\"Description :\"+clean_description[titre.index(i)])\r\n",
        "      print(\"Avis :\")\r\n",
        "      print(grouper_par_avis(t))"
      ],
      "execution_count": 126,
      "outputs": []
    },
    {
      "cell_type": "code",
      "metadata": {
        "colab": {
          "base_uri": "https://localhost:8080/"
        },
        "id": "NOGKKJJ2y45O",
        "outputId": "5abd2099-f1f3-4292-fb0d-cee6a0943723"
      },
      "source": [
        "recherche_par_titre_AS(\"Inception\")"
      ],
      "execution_count": 127,
      "outputs": [
        {
          "output_type": "stream",
          "text": [
            "Titre :Inception\n",
            "Genre :Action, Adventure, Sci-Fi\n",
            "Description :\n",
            "    A thief who steals corporate secrets through the use of dream-sharing technology is given the inverse task of planting an idea into the mind of a C.E.O.\n",
            "Avis :\n",
            "         Titre  ...        Sentiment\n",
            "233  Inception  ...  Positive de 90%\n",
            "225  Inception  ...           Neutre\n",
            "238  Inception  ...           Neutre\n",
            "248  Inception  ...           Neutre\n",
            "247  Inception  ...           Neutre\n",
            "245  Inception  ...           Neutre\n",
            "244  Inception  ...           Neutre\n",
            "243  Inception  ...           Neutre\n",
            "242  Inception  ...           Neutre\n",
            "241  Inception  ...           Neutre\n",
            "240  Inception  ...           Neutre\n",
            "239  Inception  ...           Neutre\n",
            "237  Inception  ...           Neutre\n",
            "226  Inception  ...           Neutre\n",
            "236  Inception  ...           Neutre\n",
            "235  Inception  ...           Neutre\n",
            "234  Inception  ...           Neutre\n",
            "232  Inception  ...           Neutre\n",
            "231  Inception  ...           Neutre\n",
            "230  Inception  ...           Neutre\n",
            "229  Inception  ...           Neutre\n",
            "228  Inception  ...           Neutre\n",
            "227  Inception  ...           Neutre\n",
            "249  Inception  ...           Neutre\n",
            "246  Inception  ...  Négative de 40%\n",
            "\n",
            "[25 rows x 3 columns]\n"
          ],
          "name": "stdout"
        }
      ]
    },
    {
      "cell_type": "markdown",
      "metadata": {
        "id": "wVTMR12nEkCB"
      },
      "source": [
        "\r\n",
        "##Le film le plus similaire a une description"
      ]
    },
    {
      "cell_type": "markdown",
      "metadata": {
        "id": "gnYfnl6J46Qy"
      },
      "source": [
        "* Cette fonction retourne le film le plus similaire selon la description "
      ]
    },
    {
      "cell_type": "code",
      "metadata": {
        "id": "-euXy0mz18FL",
        "colab": {
          "base_uri": "https://localhost:8080/"
        },
        "outputId": "9f678f25-b8da-4d31-c192-067c3c425669"
      },
      "source": [
        "#Le film le plus similaire a une description donnée si la requete entrante est une discription ou une partie de cette dérnière\r\n",
        "def sim_desc(query):\r\n",
        "  query=preprocessing(query)\r\n",
        "  import numpy as np\r\n",
        "  tfidf_vectorizer = TfidfVectorizer()\r\n",
        "  tfidf_desc = tfidf_vectorizer.fit_transform(clean_description)\r\n",
        "  q = tfidf_vectorizer.transform([query])\r\n",
        "  cs = cosine_similarity(q, tfidf_desc)\r\n",
        "  ind=np.argmax(cs[0])\r\n",
        "  print(\"Titre  : \"+titre[ind])\r\n",
        "  print(\"Description  : \"+clean_description[ind])\r\n",
        "  \r\n",
        "sim_desc(\"love\")\r\n"
      ],
      "execution_count": 154,
      "outputs": [
        {
          "output_type": "stream",
          "text": [
            "Titre  : Amélie\n",
            "Description  : \n",
            "    Amélie is an innocent and naive girl in Paris with her own sense of justice. She decides to help those around her and, along the way, discovers love.\n"
          ],
          "name": "stdout"
        }
      ]
    },
    {
      "cell_type": "markdown",
      "metadata": {
        "id": "2U1_hpkszUCB"
      },
      "source": [
        "\r\n",
        "##les 10 films similaires à une description"
      ]
    },
    {
      "cell_type": "code",
      "metadata": {
        "id": "6P76eiJ5zddX"
      },
      "source": [
        "#tf_idf\r\n",
        "def tf_idf(query, description):\r\n",
        "    query=preprocessing(query)\r\n",
        "    desc_clean=[]\r\n",
        "    for i in description:\r\n",
        "       desc_clean.append(preprocessing(i))\r\n",
        "    import numpy as np\r\n",
        "    tfidf_vectorizer = TfidfVectorizer()\r\n",
        "    tfidf_desc = tfidf_vectorizer.fit_transform(desc_clean)\r\n",
        "    q = tfidf_vectorizer.transform([query])\r\n",
        "    cs = cosine_similarity(q, tfidf_desc)\r\n",
        "    res= cs[0]\r\n",
        "    result_list = [] #index\r\n",
        "    sim = [] #similarité\r\n",
        "    nb = 10\r\n",
        "    while nb > 0:\r\n",
        "        index = np.argmax(res)\r\n",
        "        result_list.append(index)\r\n",
        "        sim.append(res[index])\r\n",
        "        res[index] = 0\r\n",
        "        nb =nb - 1\r\n",
        "\r\n",
        "    print(\"les 10 films similaires à votre description sont:\")\r\n",
        "    for i,j in zip(result_list,sim):\r\n",
        "            print(\"Titre :\"+titre[i])\r\n",
        "            s=int(j*100)\r\n",
        "            print(\"score de similarité :\"+str(s)+\"%\")\r\n",
        "            print(\"Genre :\"+clean_genre[i])\r\n",
        "            print(\"Description :\"+desc_clean[i])"
      ],
      "execution_count": 116,
      "outputs": []
    },
    {
      "cell_type": "code",
      "metadata": {
        "colab": {
          "base_uri": "https://localhost:8080/"
        },
        "id": "saxe5f2z0v-O",
        "outputId": "0d65c7a0-a47d-494d-a3c9-6b8129c86324"
      },
      "source": [
        "tf_idf(\"love\",description)"
      ],
      "execution_count": 117,
      "outputs": [
        {
          "output_type": "stream",
          "text": [
            "les 10 films similaires à votre description sont:\n",
            "Titre :Amélie\n",
            "score de similarité :18%\n",
            "Genre :Comedy, Romance\n",
            "Description :\n",
            "    Amélie is an innocent and naive girl in Paris with her own sense of justice. She decides to help those around her and, along the way, discovers love.\n",
            "Titre :Cinema Paradiso\n",
            "score de similarité :18%\n",
            "Genre :Drama, Romance\n",
            "Description :\n",
            "    A filmmaker recalls his childhood when falling in love with the pictures at the cinema of his home village and forms a deep friendship with the cinema's projectionist.\n",
            "Titre :City Lights\n",
            "score de similarité :18%\n",
            "Genre :Comedy, Drama, Romance\n",
            "Description :\n",
            "    With the aid of a wealthy erratic tippler, a dewy-eyed tramp who has fallen in love with a sightless flower girl accumulates money to be able to help her medically.\n",
            "Titre :7 Kogustaki Mucize\n",
            "score de similarité :15%\n",
            "Genre :Drama\n",
            "Description :\n",
            "    A story of love between a mentally-ill father who was wrongly accused of murder and his lovely six years old daughter. The prison would be their home. Based on the 2013 Korean movie Miracle in Cell No. 7 (2013).\n",
            "Titre :The Hunt\n",
            "score de similarité :14%\n",
            "Genre :Drama\n",
            "Description :\n",
            "    A teacher lives a lonely life, all the while struggling over his son's custody. His life slowly gets better as he finds love and receives good news from his son, but his new luck is about to be brutally shattered by an innocent little lie.\n",
            "Titre :Dara of Jasenovac\n",
            "score de similarité :0%\n",
            "Genre :Drama, War\n",
            "Description :\n",
            "    The film is set in the Nazi-occupied Croatian Ustasha regime \"NDH\" in former Yugoslavia during WWII. The film is told through the experiences of a little girl named Dara who is sent as a ...                See full summary »\n",
            "\n",
            "Titre :Dara of Jasenovac\n",
            "score de similarité :0%\n",
            "Genre :Drama, War\n",
            "Description :\n",
            "    The film is set in the Nazi-occupied Croatian Ustasha regime \"NDH\" in former Yugoslavia during WWII. The film is told through the experiences of a little girl named Dara who is sent as a ...                See full summary »\n",
            "\n",
            "Titre :Dara of Jasenovac\n",
            "score de similarité :0%\n",
            "Genre :Drama, War\n",
            "Description :\n",
            "    The film is set in the Nazi-occupied Croatian Ustasha regime \"NDH\" in former Yugoslavia during WWII. The film is told through the experiences of a little girl named Dara who is sent as a ...                See full summary »\n",
            "\n",
            "Titre :Dara of Jasenovac\n",
            "score de similarité :0%\n",
            "Genre :Drama, War\n",
            "Description :\n",
            "    The film is set in the Nazi-occupied Croatian Ustasha regime \"NDH\" in former Yugoslavia during WWII. The film is told through the experiences of a little girl named Dara who is sent as a ...                See full summary »\n",
            "\n",
            "Titre :Dara of Jasenovac\n",
            "score de similarité :0%\n",
            "Genre :Drama, War\n",
            "Description :\n",
            "    The film is set in the Nazi-occupied Croatian Ustasha regime \"NDH\" in former Yugoslavia during WWII. The film is told through the experiences of a little girl named Dara who is sent as a ...                See full summary »\n",
            "\n"
          ],
          "name": "stdout"
        }
      ]
    },
    {
      "cell_type": "markdown",
      "metadata": {
        "id": "GitaviRBMEtU"
      },
      "source": [
        "\r\n",
        "\r\n",
        "##les 10 films similaires à une catégorie"
      ]
    },
    {
      "cell_type": "code",
      "metadata": {
        "id": "RQInCn4KMEtX"
      },
      "source": [
        "#tf_idf\r\n",
        "def tf_idf(query, genre):\r\n",
        "    query=preprocessing(query)\r\n",
        "    clean_genre=[]\r\n",
        "    for i in genre:\r\n",
        "       clean_genre.append(preprocessing(i))\r\n",
        "    import numpy as np\r\n",
        "    tfidf_vectorizer = TfidfVectorizer()\r\n",
        "    tfidf_genre = tfidf_vectorizer.fit_transform(clean_genre)\r\n",
        "    q = tfidf_vectorizer.transform([query])\r\n",
        "    cs = cosine_similarity(q, tfidf_genre)\r\n",
        "    res= cs[0]\r\n",
        "    result_list = [] #index\r\n",
        "    sim = [] #similarité\r\n",
        "    nb = 10\r\n",
        "    while nb > 0:\r\n",
        "        index = np.argmax(res)\r\n",
        "        result_list.append(index)\r\n",
        "        sim.append(res[index])\r\n",
        "        res[index] = 0\r\n",
        "        nb =nb - 1\r\n",
        "\r\n",
        "    print(\"les 10 films similaires à votre categorie sont:\")\r\n",
        "    for i,j in zip(result_list,sim):\r\n",
        "            print(\"Titre :\"+titre[i])\r\n",
        "            s=int(j*100)\r\n",
        "            print(\"score de similarité :\"+str(s)+\"%\")\r\n",
        "            print(\"Genre :\"+clean_genre[i])\r\n",
        "\r\n"
      ],
      "execution_count": 118,
      "outputs": []
    },
    {
      "cell_type": "code",
      "metadata": {
        "colab": {
          "base_uri": "https://localhost:8080/"
        },
        "id": "8wWsY5uKMEtZ",
        "outputId": "fda290ee-a104-477f-bd8d-31063d402594"
      },
      "source": [
        "tf_idf('War',genre)"
      ],
      "execution_count": 119,
      "outputs": [
        {
          "output_type": "stream",
          "text": [
            "les 10 films similaires à votre categorie sont:\n",
            "Titre :Dara of Jasenovac\n",
            "score de similarité :93%\n",
            "Genre :\n",
            "Drama, War            \n",
            "Titre :Saving Private Ryan\n",
            "score de similarité :93%\n",
            "Genre :\n",
            "Drama, War            \n",
            "Titre :Paths of Glory\n",
            "score de similarité :93%\n",
            "Genre :\n",
            "Drama, War            \n",
            "Titre :Inglourious Basterds\n",
            "score de similarité :75%\n",
            "Genre :\n",
            "Adventure, Drama, War            \n",
            "Titre :Apocalypse Now\n",
            "score de similarité :70%\n",
            "Genre :\n",
            "Drama, Mystery, War            \n",
            "Titre :Incendies\n",
            "score de similarité :70%\n",
            "Genre :\n",
            "Drama, Mystery, War            \n",
            "Titre :The Great Dictator\n",
            "score de similarité :68%\n",
            "Genre :\n",
            "Comedy, Drama, War            \n",
            "Titre :1917\n",
            "score de similarité :68%\n",
            "Genre :\n",
            "Drama, Thriller, War            \n",
            "Titre :Grave of the Fireflies\n",
            "score de similarité :66%\n",
            "Genre :\n",
            "Animation, Drama, War            \n",
            "Titre :Casablanca\n",
            "score de similarité :65%\n",
            "Genre :\n",
            "Drama, Romance, War            \n"
          ],
          "name": "stdout"
        }
      ]
    }
  ]
}