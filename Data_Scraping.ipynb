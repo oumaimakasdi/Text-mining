{
  "nbformat": 4,
  "nbformat_minor": 0,
  "metadata": {
    "colab": {
      "name": "Data_Scraping.ipynb",
      "provenance": [],
      "collapsed_sections": [
        "PFm_VTHK5urh",
        "A5njSUe451xd",
        "KWh3-I6gHDBA"
      ],
      "toc_visible": true
    },
    "kernelspec": {
      "name": "python3",
      "display_name": "Python 3"
    }
  },
  "cells": [
    {
      "cell_type": "code",
      "metadata": {
        "colab": {
          "base_uri": "https://localhost:8080/"
        },
        "id": "yX40zqNPBIzE",
        "outputId": "ed9336e4-a3ac-4922-f221-0cf00f684821"
      },
      "source": [
        "from google.colab import drive\r\n",
        "drive.mount('/content/drive')"
      ],
      "execution_count": 1,
      "outputs": [
        {
          "output_type": "stream",
          "text": [
            "Mounted at /content/drive\n"
          ],
          "name": "stdout"
        }
      ]
    },
    {
      "cell_type": "markdown",
      "metadata": {
        "id": "wIoYBaGYBcym"
      },
      "source": [
        "* On a utilisé le site web **Imdb** pour collecter les données pour cela on a récupéré le contenu des tags HTML à partir du code source des pages qui nous intéressent c'est ce qu'a l'appele le **Scraping**"
      ]
    },
    {
      "cell_type": "code",
      "metadata": {
        "id": "ytD5-kR6POhm"
      },
      "source": [
        "import bs4\r\n",
        "import pandas as pd\r\n",
        "import requests"
      ],
      "execution_count": 2,
      "outputs": []
    },
    {
      "cell_type": "markdown",
      "metadata": {
        "id": "eoSpnLdiHINe"
      },
      "source": [
        "#Collecter les informations des films"
      ]
    },
    {
      "cell_type": "markdown",
      "metadata": {
        "id": "gtLJ_6PCEcG7"
      },
      "source": [
        "* On commence par collecter les informations sur les top 100 films sur le site \r\n",
        "( Title -  Genre\t- IMDB Rating\t\t- description)\r\n",
        "* Aprés on va sauvgarder ce Dataset dans un fichier csv "
      ]
    },
    {
      "cell_type": "markdown",
      "metadata": {
        "id": "PFm_VTHK5urh"
      },
      "source": [
        "##Se connecter a la page "
      ]
    },
    {
      "cell_type": "code",
      "metadata": {
        "id": "29wYM4y4LkPq"
      },
      "source": [
        "url = 'https://www.imdb.com/search/title/?count=100&groups=top_1000&sort=user_rating'\r\n",
        "def get_page_contents(url):\r\n",
        "    page = requests.get(url, headers={\"Accept-Language\": \"en-US\"})\r\n",
        "    return bs4.BeautifulSoup(page.text, \"html.parser\")\r\n",
        "\r\n",
        "soup = get_page_contents(url)"
      ],
      "execution_count": 18,
      "outputs": []
    },
    {
      "cell_type": "code",
      "metadata": {
        "id": "92XhVBgTuM4Y"
      },
      "source": [
        "d= soup.findAll('p', class_='text-muted')\r\n",
        "description=[]\r\n",
        "for i in range(len(d)):\r\n",
        "  if i% 2 !=0 :\r\n",
        "    description.append(soup.findAll('p', class_='text-muted')[i].text)\r\n"
      ],
      "execution_count": 20,
      "outputs": []
    },
    {
      "cell_type": "markdown",
      "metadata": {
        "id": "A5njSUe451xd"
      },
      "source": [
        "##Fonctions d'extraction"
      ]
    },
    {
      "cell_type": "code",
      "metadata": {
        "id": "Uar2ObmBfjYt"
      },
      "source": [
        "def numeric_value(movie, tag, class_=None, order=None):\r\n",
        "    if order:\r\n",
        "        if len(movie.findAll(tag, class_)) > 1:\r\n",
        "            to_extract = movie.findAll(tag, class_)[order]['data-value']\r\n",
        "        else:\r\n",
        "            to_extract = None\r\n",
        "    else:\r\n",
        "        to_extract = movie.find(tag, class_)['data-value']\r\n",
        "\r\n",
        "    return to_extract\r\n",
        "\r\n",
        "\r\n",
        "def text_value(movie, tag, class_=None):\r\n",
        "    if movie.find(tag, class_):\r\n",
        "        return movie.find(tag, class_).text\r\n",
        "    else:\r\n",
        "        return\r\n",
        "\r\n",
        "\r\n",
        "def nested_text_value(movie, tag_1, class_1, tag_2, class_2, order=None):\r\n",
        "    if not order:\r\n",
        "        return movie.find(tag_1, class_1).find(tag_2, class_2).text\r\n",
        "    else:\r\n",
        "        return [val.text for val in movie.find(tag_1, class_1).findAll(tag_2, class_2)[order]]\r\n",
        "\r\n",
        "\r\n",
        "def extract_attribute(soup, tag_1, class_1='', tag_2='', class_2='',\r\n",
        "                      text_attribute=True, order=None, nested=False):\r\n",
        "    movies = soup.findAll('div', class_='lister-item-content')\r\n",
        "    data_list = []\r\n",
        "    for movie in movies:\r\n",
        "        if text_attribute:\r\n",
        "            if nested:\r\n",
        "                data_list.append(nested_text_value(movie, tag_1, class_1, tag_2, class_2, order))\r\n",
        "            else:\r\n",
        "                data_list.append(text_value(movie, tag_1, class_1))\r\n",
        "        else:\r\n",
        "            data_list.append(numeric_value(movie, tag_1, class_1, order))\r\n",
        "\r\n",
        "    return data_list"
      ],
      "execution_count": 21,
      "outputs": []
    },
    {
      "cell_type": "markdown",
      "metadata": {
        "id": "IDaH-TFO5Hes"
      },
      "source": [
        "##application"
      ]
    },
    {
      "cell_type": "code",
      "metadata": {
        "id": "nhJuIay0go64"
      },
      "source": [
        "titles = extract_attribute(soup, 'a')"
      ],
      "execution_count": 22,
      "outputs": []
    },
    {
      "cell_type": "markdown",
      "metadata": {
        "id": "TTRz8brw5K2l"
      },
      "source": [
        ""
      ]
    },
    {
      "cell_type": "code",
      "metadata": {
        "id": "vblDa4cwg0h6"
      },
      "source": [
        "genre = extract_attribute(soup, 'span', 'genre')"
      ],
      "execution_count": 23,
      "outputs": []
    },
    {
      "cell_type": "code",
      "metadata": {
        "id": "fuo-0fdXg_lm"
      },
      "source": [
        "imdb_rating = extract_attribute(soup, 'div', 'inline-block ratings-imdb-rating', False)"
      ],
      "execution_count": 24,
      "outputs": []
    },
    {
      "cell_type": "code",
      "metadata": {
        "id": "Xk3eIEk92zQt"
      },
      "source": [
        "df_dict = {'Title': titles,'Genre': genre, 'IMDB Rating': imdb_rating,'description':description}\r\n"
      ],
      "execution_count": 25,
      "outputs": []
    },
    {
      "cell_type": "markdown",
      "metadata": {
        "id": "_iqy0lBR5NJX"
      },
      "source": [
        "###Resultat"
      ]
    },
    {
      "cell_type": "code",
      "metadata": {
        "colab": {
          "base_uri": "https://localhost:8080/",
          "height": 419
        },
        "id": "xrcr-wD93VG5",
        "outputId": "5cd2411a-5896-404d-b2b4-7d696825e764"
      },
      "source": [
        "df= pd.DataFrame(df_dict)\r\n",
        "df"
      ],
      "execution_count": 26,
      "outputs": [
        {
          "output_type": "execute_result",
          "data": {
            "text/html": [
              "<div>\n",
              "<style scoped>\n",
              "    .dataframe tbody tr th:only-of-type {\n",
              "        vertical-align: middle;\n",
              "    }\n",
              "\n",
              "    .dataframe tbody tr th {\n",
              "        vertical-align: top;\n",
              "    }\n",
              "\n",
              "    .dataframe thead th {\n",
              "        text-align: right;\n",
              "    }\n",
              "</style>\n",
              "<table border=\"1\" class=\"dataframe\">\n",
              "  <thead>\n",
              "    <tr style=\"text-align: right;\">\n",
              "      <th></th>\n",
              "      <th>Title</th>\n",
              "      <th>Genre</th>\n",
              "      <th>IMDB Rating</th>\n",
              "      <th>description</th>\n",
              "    </tr>\n",
              "  </thead>\n",
              "  <tbody>\n",
              "    <tr>\n",
              "      <th>0</th>\n",
              "      <td>Dara of Jasenovac</td>\n",
              "      <td>\\nDrama, War</td>\n",
              "      <td>\\n\\n9.7\\n</td>\n",
              "      <td>\\n    The film is set in the Nazi-occupied Cro...</td>\n",
              "    </tr>\n",
              "    <tr>\n",
              "      <th>1</th>\n",
              "      <td>The Shawshank Redemption</td>\n",
              "      <td>\\nDrama</td>\n",
              "      <td>\\n\\n9.3\\n</td>\n",
              "      <td>\\n    Two imprisoned men bond over a number of...</td>\n",
              "    </tr>\n",
              "    <tr>\n",
              "      <th>2</th>\n",
              "      <td>The Godfather</td>\n",
              "      <td>\\nCrime, Drama</td>\n",
              "      <td>\\n\\n9.2\\n</td>\n",
              "      <td>\\n    An organized crime dynasty's aging patri...</td>\n",
              "    </tr>\n",
              "    <tr>\n",
              "      <th>3</th>\n",
              "      <td>The Dark Knight</td>\n",
              "      <td>\\nAction, Crime, Drama</td>\n",
              "      <td>\\n\\n9.0\\n</td>\n",
              "      <td>\\n    When the menace known as the Joker wreak...</td>\n",
              "    </tr>\n",
              "    <tr>\n",
              "      <th>4</th>\n",
              "      <td>The Godfather: Part II</td>\n",
              "      <td>\\nCrime, Drama</td>\n",
              "      <td>\\n\\n9.0\\n</td>\n",
              "      <td>\\n    The early life and career of Vito Corleo...</td>\n",
              "    </tr>\n",
              "    <tr>\n",
              "      <th>...</th>\n",
              "      <td>...</td>\n",
              "      <td>...</td>\n",
              "      <td>...</td>\n",
              "      <td>...</td>\n",
              "    </tr>\n",
              "    <tr>\n",
              "      <th>95</th>\n",
              "      <td>Eternal Sunshine of the Spotless Mind</td>\n",
              "      <td>\\nDrama, Romance, Sci-Fi</td>\n",
              "      <td>\\n\\n8.3\\n</td>\n",
              "      <td>\\n    When their relationship turns sour, a co...</td>\n",
              "    </tr>\n",
              "    <tr>\n",
              "      <th>96</th>\n",
              "      <td>Amélie</td>\n",
              "      <td>\\nComedy, Romance</td>\n",
              "      <td>\\n\\n8.3\\n</td>\n",
              "      <td>\\n    Amélie is an innocent and naive girl in ...</td>\n",
              "    </tr>\n",
              "    <tr>\n",
              "      <th>97</th>\n",
              "      <td>Snatch</td>\n",
              "      <td>\\nComedy, Crime</td>\n",
              "      <td>\\n\\n8.3\\n</td>\n",
              "      <td>\\n    Unscrupulous boxing promoters, violent b...</td>\n",
              "    </tr>\n",
              "    <tr>\n",
              "      <th>98</th>\n",
              "      <td>Requiem for a Dream</td>\n",
              "      <td>\\nDrama</td>\n",
              "      <td>\\n\\n8.3\\n</td>\n",
              "      <td>\\n    The drug-induced utopias of four Coney I...</td>\n",
              "    </tr>\n",
              "    <tr>\n",
              "      <th>99</th>\n",
              "      <td>American Beauty</td>\n",
              "      <td>\\nDrama</td>\n",
              "      <td>\\n\\n8.3\\n</td>\n",
              "      <td>\\n    A sexually frustrated suburban father ha...</td>\n",
              "    </tr>\n",
              "  </tbody>\n",
              "</table>\n",
              "<p>100 rows × 4 columns</p>\n",
              "</div>"
            ],
            "text/plain": [
              "                                    Title  ...                                        description\n",
              "0                       Dara of Jasenovac  ...  \\n    The film is set in the Nazi-occupied Cro...\n",
              "1                The Shawshank Redemption  ...  \\n    Two imprisoned men bond over a number of...\n",
              "2                           The Godfather  ...  \\n    An organized crime dynasty's aging patri...\n",
              "3                         The Dark Knight  ...  \\n    When the menace known as the Joker wreak...\n",
              "4                  The Godfather: Part II  ...  \\n    The early life and career of Vito Corleo...\n",
              "..                                    ...  ...                                                ...\n",
              "95  Eternal Sunshine of the Spotless Mind  ...  \\n    When their relationship turns sour, a co...\n",
              "96                                 Amélie  ...  \\n    Amélie is an innocent and naive girl in ...\n",
              "97                                 Snatch  ...  \\n    Unscrupulous boxing promoters, violent b...\n",
              "98                    Requiem for a Dream  ...  \\n    The drug-induced utopias of four Coney I...\n",
              "99                        American Beauty  ...  \\n    A sexually frustrated suburban father ha...\n",
              "\n",
              "[100 rows x 4 columns]"
            ]
          },
          "metadata": {
            "tags": []
          },
          "execution_count": 26
        }
      ]
    },
    {
      "cell_type": "markdown",
      "metadata": {
        "id": "mGftDU1r5TgA"
      },
      "source": [
        "##Sauvgarder le Dataset"
      ]
    },
    {
      "cell_type": "markdown",
      "metadata": {
        "id": "dR_eaHM1D1qr"
      },
      "source": [
        "* Il faut tout d'abord creer un répértoire \"projet_TM\" sur votre Drive avant de creer le fichier CSV "
      ]
    },
    {
      "cell_type": "code",
      "metadata": {
        "id": "WB4iTOIR9Hga"
      },
      "source": [
        "df.to_csv('/content/drive/My Drive/projet_TM/Data.csv' , encoding=\"UTF-8\",sep =\";\" , index = False)"
      ],
      "execution_count": 38,
      "outputs": []
    },
    {
      "cell_type": "markdown",
      "metadata": {
        "id": "syQdhFLfHTtu"
      },
      "source": [
        "# Collecter les avis sur les films"
      ]
    },
    {
      "cell_type": "markdown",
      "metadata": {
        "id": "kukL96ERFWHW"
      },
      "source": [
        "* le 2éme Dataset contient les reviews sur chaque film dans le fichier précedent plus le titre et le score"
      ]
    },
    {
      "cell_type": "markdown",
      "metadata": {
        "id": "NDsxsqvJG6qZ"
      },
      "source": [
        "##connection au pages des films"
      ]
    },
    {
      "cell_type": "code",
      "metadata": {
        "id": "-Us1Mbgj_VFV"
      },
      "source": [
        "url=\"https://www.imdb.com/search/title/?count=100&groups=top_1000&sort=user_rating\""
      ],
      "execution_count": 27,
      "outputs": []
    },
    {
      "cell_type": "code",
      "metadata": {
        "id": "CQ-NIzNgA8PJ"
      },
      "source": [
        "# find all a-tags with class:None\r\n",
        "movie_tags = soup.find_all('a', attrs={'class': None})\r\n",
        "\r\n",
        "# filter the a-tags to get just the titles\r\n",
        "movie_tags = [tag.attrs['href'] for tag in movie_tags \r\n",
        "              if tag.attrs['href'].startswith('/title') & tag.attrs['href'].endswith('/')]\r\n",
        "\r\n",
        "# remove duplicate links\r\n",
        "movie_tags = list(dict.fromkeys(movie_tags))\r\n",
        "\r\n",
        "print(\"There are a total of \" + str(len(movie_tags)) + \" movie titles\")\r\n",
        "print(\"Displaying 10 titles\")\r\n",
        "movie_tags[:10]"
      ],
      "execution_count": null,
      "outputs": []
    },
    {
      "cell_type": "code",
      "metadata": {
        "colab": {
          "base_uri": "https://localhost:8080/"
        },
        "id": "NklrGvBQCn-V",
        "outputId": "c317c84d-819d-4187-ac23-f084cb8cbd3e"
      },
      "source": [
        "# movie links\r\n",
        "base_url = \"https://www.imdb.com\"\r\n",
        "movie_links = [base_url + tag + 'reviews' for tag in movie_tags]\r\n",
        "print(\"There are a total of \" + str(len(movie_links)) + \" movie user reviews\")\r\n",
        "print(\"Displaying 10 user reviews links\")\r\n",
        "movie_links[:10]"
      ],
      "execution_count": 29,
      "outputs": [
        {
          "output_type": "stream",
          "text": [
            "There are a total of 100 movie user reviews\n",
            "Displaying 10 user reviews links\n"
          ],
          "name": "stdout"
        },
        {
          "output_type": "execute_result",
          "data": {
            "text/plain": [
              "['https://www.imdb.com/title/tt10554232/reviews',\n",
              " 'https://www.imdb.com/title/tt0111161/reviews',\n",
              " 'https://www.imdb.com/title/tt0068646/reviews',\n",
              " 'https://www.imdb.com/title/tt0468569/reviews',\n",
              " 'https://www.imdb.com/title/tt0071562/reviews',\n",
              " 'https://www.imdb.com/title/tt0050083/reviews',\n",
              " 'https://www.imdb.com/title/tt0167260/reviews',\n",
              " 'https://www.imdb.com/title/tt0110912/reviews',\n",
              " 'https://www.imdb.com/title/tt0108052/reviews',\n",
              " 'https://www.imdb.com/title/tt1375666/reviews']"
            ]
          },
          "metadata": {
            "tags": []
          },
          "execution_count": 29
        }
      ]
    },
    {
      "cell_type": "markdown",
      "metadata": {
        "id": "KWh3-I6gHDBA"
      },
      "source": [
        "##extraire les review et les scores "
      ]
    },
    {
      "cell_type": "code",
      "metadata": {
        "id": "OeNbM1d8CvfX"
      },
      "source": [
        "# get a list of soup objects\r\n",
        "movie_soups = [get_page_contents(link) for link in movie_links]\r\n",
        "\r\n"
      ],
      "execution_count": 30,
      "outputs": []
    },
    {
      "cell_type": "code",
      "metadata": {
        "id": "tE2tgP3wM82p"
      },
      "source": [
        "pages_reviews=[msoup.findAll('div', class_='lister-item-content') for msoup in movie_soups]"
      ],
      "execution_count": 31,
      "outputs": []
    },
    {
      "cell_type": "code",
      "metadata": {
        "id": "QPKG92B9RG2Q"
      },
      "source": [
        "list_revews=[]\r\n",
        "for page_reviews in pages_reviews:\r\n",
        "  list_revews.append([rf.find('a','title').text for rf in page_reviews])\r\n"
      ],
      "execution_count": 32,
      "outputs": []
    },
    {
      "cell_type": "code",
      "metadata": {
        "id": "HBp5TahaUH6M"
      },
      "source": [
        "r_view=[]\r\n",
        "\r\n",
        "for page_reviews in pages_reviews:\r\n",
        "  r_view.append([rf.find('span').text for rf in page_reviews])"
      ],
      "execution_count": 33,
      "outputs": []
    },
    {
      "cell_type": "markdown",
      "metadata": {
        "id": "D5dRF5xxHLdA"
      },
      "source": [
        "##transformer en dataframe"
      ]
    },
    {
      "cell_type": "code",
      "metadata": {
        "id": "SBUWNMt72w0B"
      },
      "source": [
        "import numpy as np\r\n",
        "\r\n",
        "l1=[]\r\n",
        "l2=[]\r\n",
        "for i in range(len(titles)):\r\n",
        "   for j in range(len(r_view[i])):\r\n",
        "    z=(titles[i],r_view[i][j])\r\n",
        "    l1.append(z) \r\n",
        "    df2 = pd.DataFrame(np.array(l1),columns=['titres', 'rates'])\r\n",
        "   for j in range(len(list_revews[i])):\r\n",
        "     z=(list_revews[i][j])\r\n",
        "     l2.append(z) \r\n",
        "     df3 = pd.DataFrame(np.array(l2),columns=['avis'])\r\n",
        "    \r\n",
        " \r\n",
        "\r\n",
        "  "
      ],
      "execution_count": 34,
      "outputs": []
    },
    {
      "cell_type": "code",
      "metadata": {
        "id": "xFLy7Cq44Ill"
      },
      "source": [
        "data_reviews=pd.concat([df2, df3], axis=1, ignore_index=True)\r\n",
        "data_reviews.columns=[\"title\",\"rate\",\"review\"]\r\n"
      ],
      "execution_count": 35,
      "outputs": []
    },
    {
      "cell_type": "markdown",
      "metadata": {
        "id": "YPCw4Ek_HiVM"
      },
      "source": [
        "### Resultat"
      ]
    },
    {
      "cell_type": "code",
      "metadata": {
        "colab": {
          "base_uri": "https://localhost:8080/",
          "height": 419
        },
        "id": "KPZcn3Cf8RW6",
        "outputId": "312a163a-6624-407f-ec7a-412651a8d9a3"
      },
      "source": [
        "data_reviews"
      ],
      "execution_count": 36,
      "outputs": [
        {
          "output_type": "execute_result",
          "data": {
            "text/html": [
              "<div>\n",
              "<style scoped>\n",
              "    .dataframe tbody tr th:only-of-type {\n",
              "        vertical-align: middle;\n",
              "    }\n",
              "\n",
              "    .dataframe tbody tr th {\n",
              "        vertical-align: top;\n",
              "    }\n",
              "\n",
              "    .dataframe thead th {\n",
              "        text-align: right;\n",
              "    }\n",
              "</style>\n",
              "<table border=\"1\" class=\"dataframe\">\n",
              "  <thead>\n",
              "    <tr style=\"text-align: right;\">\n",
              "      <th></th>\n",
              "      <th>title</th>\n",
              "      <th>rate</th>\n",
              "      <th>review</th>\n",
              "    </tr>\n",
              "  </thead>\n",
              "  <tbody>\n",
              "    <tr>\n",
              "      <th>0</th>\n",
              "      <td>Dara of Jasenovac</td>\n",
              "      <td>\\n\\n\\n\\n\\n\\n10/10\\n</td>\n",
              "      <td>Extremely hartbreaking movie about one of the...</td>\n",
              "    </tr>\n",
              "    <tr>\n",
              "      <th>1</th>\n",
              "      <td>Dara of Jasenovac</td>\n",
              "      <td>\\n\\n\\n\\n\\n\\n10/10\\n</td>\n",
              "      <td>Incredible.\\n</td>\n",
              "    </tr>\n",
              "    <tr>\n",
              "      <th>2</th>\n",
              "      <td>Dara of Jasenovac</td>\n",
              "      <td>\\n\\n\\n\\n\\n\\n10/10\\n</td>\n",
              "      <td>Facts\\n</td>\n",
              "    </tr>\n",
              "    <tr>\n",
              "      <th>3</th>\n",
              "      <td>Dara of Jasenovac</td>\n",
              "      <td>\\n\\n\\n\\n\\n\\n10/10\\n</td>\n",
              "      <td>Amazing Truth\\n</td>\n",
              "    </tr>\n",
              "    <tr>\n",
              "      <th>4</th>\n",
              "      <td>Dara of Jasenovac</td>\n",
              "      <td>\\n\\n\\n\\n\\n\\n10/10\\n</td>\n",
              "      <td>Dara iz Jasenovca\\n</td>\n",
              "    </tr>\n",
              "    <tr>\n",
              "      <th>...</th>\n",
              "      <td>...</td>\n",
              "      <td>...</td>\n",
              "      <td>...</td>\n",
              "    </tr>\n",
              "    <tr>\n",
              "      <th>2491</th>\n",
              "      <td>American Beauty</td>\n",
              "      <td>\\n\\n\\n\\n\\n\\n9/10\\n</td>\n",
              "      <td>The best of 1999.\\n</td>\n",
              "    </tr>\n",
              "    <tr>\n",
              "      <th>2492</th>\n",
              "      <td>American Beauty</td>\n",
              "      <td>\\n\\n\\n\\n\\n\\n10/10\\n</td>\n",
              "      <td>Look Closer...\\n</td>\n",
              "    </tr>\n",
              "    <tr>\n",
              "      <th>2493</th>\n",
              "      <td>American Beauty</td>\n",
              "      <td>Jason Morales</td>\n",
              "      <td>LOOK CLOSER at this BEAUTiful AMERICAN film.\\n</td>\n",
              "    </tr>\n",
              "    <tr>\n",
              "      <th>2494</th>\n",
              "      <td>American Beauty</td>\n",
              "      <td>\\n\\n\\n\\n\\n\\n10/10\\n</td>\n",
              "      <td>The Beautiful Truth\\n</td>\n",
              "    </tr>\n",
              "    <tr>\n",
              "      <th>2495</th>\n",
              "      <td>American Beauty</td>\n",
              "      <td>\\n\\n\\n\\n\\n\\n10/10\\n</td>\n",
              "      <td>A different kind of American family\\n</td>\n",
              "    </tr>\n",
              "  </tbody>\n",
              "</table>\n",
              "<p>2496 rows × 3 columns</p>\n",
              "</div>"
            ],
            "text/plain": [
              "                  title  ...                                             review\n",
              "0     Dara of Jasenovac  ...   Extremely hartbreaking movie about one of the...\n",
              "1     Dara of Jasenovac  ...                                      Incredible.\\n\n",
              "2     Dara of Jasenovac  ...                                            Facts\\n\n",
              "3     Dara of Jasenovac  ...                                    Amazing Truth\\n\n",
              "4     Dara of Jasenovac  ...                                Dara iz Jasenovca\\n\n",
              "...                 ...  ...                                                ...\n",
              "2491    American Beauty  ...                                The best of 1999.\\n\n",
              "2492    American Beauty  ...                                   Look Closer...\\n\n",
              "2493    American Beauty  ...     LOOK CLOSER at this BEAUTiful AMERICAN film.\\n\n",
              "2494    American Beauty  ...                              The Beautiful Truth\\n\n",
              "2495    American Beauty  ...              A different kind of American family\\n\n",
              "\n",
              "[2496 rows x 3 columns]"
            ]
          },
          "metadata": {
            "tags": []
          },
          "execution_count": 36
        }
      ]
    },
    {
      "cell_type": "markdown",
      "metadata": {
        "id": "DYV8jgUIHVNx"
      },
      "source": [
        "##Sauvgarder le resultat"
      ]
    },
    {
      "cell_type": "code",
      "metadata": {
        "id": "JLjGYDES-vQ4"
      },
      "source": [
        "data_reviews.to_csv('/content/drive/My Drive/projet_TM/Data_Reviews.csv' , encoding=\"UTF-8\",sep =\";\" , index = False)"
      ],
      "execution_count": 37,
      "outputs": []
    },
    {
      "cell_type": "markdown",
      "metadata": {
        "id": "SiMPKLC2GIuR"
      },
      "source": [
        "*  Voilà ! les données sont prêtes à manipuler"
      ]
    }
  ]
}